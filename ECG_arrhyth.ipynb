{
  "nbformat": 4,
  "nbformat_minor": 0,
  "metadata": {
    "colab": {
      "name": "ECG_arrhyth.ipynb",
      "provenance": [],
      "collapsed_sections": [],
      "authorship_tag": "ABX9TyMh5Au/rfBjfHSEYPUe7HDk",
      "include_colab_link": true
    },
    "kernelspec": {
      "name": "python3",
      "display_name": "Python 3"
    }
  },
  "cells": [
    {
      "cell_type": "markdown",
      "metadata": {
        "id": "view-in-github",
        "colab_type": "text"
      },
      "source": [
        "<a href=\"https://colab.research.google.com/github/chldncjf95/ECG_Arrhythmia_Improved/blob/master/ECG_arrhyth.ipynb\" target=\"_parent\"><img src=\"https://colab.research.google.com/assets/colab-badge.svg\" alt=\"Open In Colab\"/></a>"
      ]
    },
    {
      "cell_type": "code",
      "metadata": {
        "id": "Ax1qnoNkA0yt",
        "colab_type": "code",
        "colab": {}
      },
      "source": [
        "%%capture\n",
        "# Install library and download data\n",
        "!git clone https://github.com/VictorSungminYou/ecg\n",
        "\n",
        "%cd /content/ecg\n",
        "!./setup.sh\n",
        "!mkdir saved\n",
        "\n",
        "%cd /content/ecg/examples/cinc17\n",
        "!./setup.sh"
      ],
      "execution_count": 0,
      "outputs": []
    },
    {
      "cell_type": "code",
      "metadata": {
        "id": "6xm-mCeQJWFI",
        "colab_type": "code",
        "colab": {}
      },
      "source": [
        "%cd /content/ecg\n",
        "!python ecg/train.py examples/cinc17/config.json -e cinc17"
      ],
      "execution_count": 0,
      "outputs": []
    },
    {
      "cell_type": "code",
      "metadata": {
        "id": "2xvcje2sJzuu",
        "colab_type": "code",
        "colab": {}
      },
      "source": [
        "import sciypy.io as sio\n",
        "\n",
        "sio.loadmat\n",
        "sio.savemat"
      ],
      "execution_count": 0,
      "outputs": []
    }
  ]
}